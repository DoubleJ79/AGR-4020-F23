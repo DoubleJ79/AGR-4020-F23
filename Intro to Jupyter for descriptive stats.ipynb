{
  "nbformat": 4,
  "nbformat_minor": 0,
  "metadata": {
    "colab": {
      "provenance": [],
      "authorship_tag": "ABX9TyN6iwfht2Obynwwk+6H20dF",
      "include_colab_link": true
    },
    "kernelspec": {
      "name": "python3",
      "display_name": "Python 3"
    },
    "language_info": {
      "name": "python"
    }
  },
  "cells": [
    {
      "cell_type": "markdown",
      "metadata": {
        "id": "view-in-github",
        "colab_type": "text"
      },
      "source": [
        "<a href=\"https://colab.research.google.com/github/DoubleJ79/AGR-4020-F23/blob/main/Intro%20to%20Jupyter%20for%20descriptive%20stats.ipynb\" target=\"_parent\"><img src=\"https://colab.research.google.com/assets/colab-badge.svg\" alt=\"Open In Colab\"/></a>"
      ]
    },
    {
      "cell_type": "markdown",
      "source": [
        "This tutorial will show you how to use a Python library of functions that is referred to as \"numpy\", which is for performing mathematical operations on arrays and matrices along with basic statistical functions."
      ],
      "metadata": {
        "id": "xo2viNn8ID9K"
      }
    },
    {
      "cell_type": "markdown",
      "source": [
        "The formula for calculating the standard deviation of a set of values is: s = sqrt(sum((x - x̄)^2) / (n - 1))\n",
        "where s is the standard deviation, x is the set of values, x̄ is the mean of the values, and n is the number of values in the set.\n",
        "\n",
        "In this formula, we first calculate the difference between each value and the mean, square each difference, sum the squared differences, divide by the number of values minus one, and then take the square root of the result to obtain the standard deviation.\n",
        "\n",
        "However, the formula above looks fine but isn't professional. How can we improve that? Use LaTeX syntax (pronounced \"Lay-Tek\"). This is part of the beauty of Jupyter notebooks, which are similar to R Markdown and Quarto documents you would use inside RStudio.\n",
        "\n",
        "To insert an equation for standard deviation in a Jupyter notebook, you can use LaTeX syntax to format the equation. Here's an example of how to format the equation for standard deviation:\n",
        "\n",
        "$$s = \\sqrt{\\frac{\\sum_{i=1}^{n}(x_i - \\bar{x})^2}{n-1}}$$\n",
        "\n",
        "In this equation, s represents the standard deviation, x_i represents the ith value in the set of values (i.e., the ith element of an array), n represents the number of values in the set, and \\bar{x} represents the mean of the values.\n",
        "\n",
        "The dollar signs are a delimiter used in LaTeX to indicate the beginning and end of a displayed math equation. When you use two dollar signs to enclose an equation (it has dollar signs as bookends), it tells LaTeX to display the equation on a separate line, centered on the page, and with extra vertical space above and below the equation.\n",
        "\n",
        "Next, add a new text cell and modify the LaTeX above to omit the square root symbol and the denominator so you only see the sum of squared errors and change \"s\" to say \"sum of squares\". You can add spaces between words using a backslash.\n",
        "\n",
        "\n",
        "\n"
      ],
      "metadata": {
        "id": "n-7pxzVtJOmK"
      }
    },
    {
      "cell_type": "markdown",
      "source": [
        "$$sum\\ of\\ squares = {\\sum_{i=1}^{n}(x_i - \\bar{x})^2}{n-1}$$"
      ],
      "metadata": {
        "id": "l3t6kpNtRGAf"
      }
    },
    {
      "cell_type": "code",
      "source": [
        "import math as math\n",
        "import numpy as np"
      ],
      "metadata": {
        "id": "fP496CpQNO8h"
      },
      "execution_count": 18,
      "outputs": []
    },
    {
      "cell_type": "code",
      "source": [
        "array1 = [1,2,4,8,12] # Define a list (i.e., array) of values\n",
        "xbar = sum(array1) / len(array1) # Calculate the mean as the sum divided by the number of elements in the array (i.e., \"n\")\n",
        "sigma_sq = sum((x - xbar) ** 2 for x in array1) / (len(array1) - 1)\n",
        "sigma = math.sqrt(sigma_sq)\n",
        "\n",
        "\n"
      ],
      "metadata": {
        "id": "OUqbDvHoMOHh"
      },
      "execution_count": 20,
      "outputs": []
    },
    {
      "cell_type": "markdown",
      "source": [
        "Ok that is fine but we can't see the result so let's tell python to print the results:"
      ],
      "metadata": {
        "id": "31VKDMJ5N1bn"
      }
    },
    {
      "cell_type": "code",
      "source": [
        "print(\"Array1:\",array1)\n",
        "print(\"x_Bar:\", xbar)\n",
        "print(\"sigma squared:\",sigma_sq)\n",
        "print(\"sigma:\", sigma)"
      ],
      "metadata": {
        "colab": {
          "base_uri": "https://localhost:8080/"
        },
        "id": "x9twJZh9D7HM",
        "outputId": "c52cee7c-1d0e-4c7f-a7f5-0c49bfc6c347"
      },
      "execution_count": 21,
      "outputs": [
        {
          "output_type": "stream",
          "name": "stdout",
          "text": [
            "Array1: [1, 2, 4, 8, 12]\n",
            "x_Bar: 5.4\n",
            "sigma squared: 20.8\n",
            "sigma: 4.560701700396552\n"
          ]
        }
      ]
    },
    {
      "cell_type": "code",
      "source": [
        "array1 = np.array([1,2,4,8,12])\n",
        "xbar = np.mean(array1)\n",
        "sigma = np.std(array1)\n",
        "sigma_sq = np.var(array1)\n",
        "print(xbar)\n",
        "print(sigma)\n",
        "print(sigma_sq)"
      ],
      "metadata": {
        "colab": {
          "base_uri": "https://localhost:8080/"
        },
        "id": "kXthd3cfEA1T",
        "outputId": "132651c4-affa-4057-94fb-bea61ff03236"
      },
      "execution_count": 5,
      "outputs": [
        {
          "output_type": "stream",
          "name": "stdout",
          "text": [
            "5.4\n",
            "4.079215610874228\n",
            "16.64\n"
          ]
        }
      ]
    },
    {
      "cell_type": "code",
      "source": [
        "print(\"Array:\",array1)\n",
        "print(\"X_Bar:\", xbar)\n",
        "print(\"Sigma:\", sigma)\n",
        "print(\"Sigma squared:\",sigma_sq)"
      ],
      "metadata": {
        "colab": {
          "base_uri": "https://localhost:8080/"
        },
        "id": "YI_gDnKAFIDl",
        "outputId": "358e05fd-ad78-4aa4-e529-779602890c0a"
      },
      "execution_count": 7,
      "outputs": [
        {
          "output_type": "stream",
          "name": "stdout",
          "text": [
            "Array: [ 1  2  4  8 12]\n",
            "X_Bar: 5.4\n",
            "Sigma: 4.079215610874228\n",
            "Sigma squared: 16.64\n"
          ]
        }
      ]
    },
    {
      "cell_type": "code",
      "source": [
        "array2 = np.array([2,4,3,7,16])\n"
      ],
      "metadata": {
        "id": "MKeOEbvMFuSD"
      },
      "execution_count": 8,
      "outputs": []
    },
    {
      "cell_type": "markdown",
      "source": [
        "Now we can calculate the element-wise subtraction and squaring of the arrays. The code below shows how to find the squared difference between the 2 arrays"
      ],
      "metadata": {
        "id": "pcpEL97PGHY7"
      }
    },
    {
      "cell_type": "code",
      "source": [
        "sq_diff = (array1 - array2)**2\n",
        "print(\"Squared differences:\", sq_diff)"
      ],
      "metadata": {
        "colab": {
          "base_uri": "https://localhost:8080/"
        },
        "id": "OV6Gb6T9GOCa",
        "outputId": "d52c78b1-a27a-46c2-a58e-31bb182a0aa9"
      },
      "execution_count": 12,
      "outputs": [
        {
          "output_type": "stream",
          "name": "stdout",
          "text": [
            "Squared differences: [ 1  4  1  1 16]\n"
          ]
        }
      ]
    },
    {
      "cell_type": "markdown",
      "source": [],
      "metadata": {
        "id": "aCaAvfbqICDa"
      }
    },
    {
      "cell_type": "code",
      "source": [
        "mean_sq_error = np.mean(sq_diff)\n",
        "print(\"Mean Squared Error:\", mean_sq_error)\n",
        "rmse = np.sqrt(mean_sq_error)\n",
        "print(\"Root Mean Squared Error:\", rmse)"
      ],
      "metadata": {
        "colab": {
          "base_uri": "https://localhost:8080/"
        },
        "id": "v3CUxalJGbJM",
        "outputId": "10d1ad8c-fb34-4fd3-c5ed-85af4244a41c"
      },
      "execution_count": 13,
      "outputs": [
        {
          "output_type": "stream",
          "name": "stdout",
          "text": [
            "Mean Error: 4.6\n",
            "Root Mean Squared Error: 2.1447610589527217\n"
          ]
        }
      ]
    },
    {
      "cell_type": "markdown",
      "source": [
        "On average, the values in array1 and array2 vary by 2.14 units. Now lets bundle everything together into 1 line of code for the calculation:"
      ],
      "metadata": {
        "id": "558Z1-NJHwp8"
      }
    },
    {
      "cell_type": "code",
      "source": [
        "# Calculate the RMSE\n",
        "rmse = np.sqrt(np.mean((array1 - array2) ** 2))\n",
        "\n",
        "# Print the result\n",
        "print(\"RMSE:\", rmse)"
      ],
      "metadata": {
        "colab": {
          "base_uri": "https://localhost:8080/"
        },
        "id": "6Kh-EJAcH226",
        "outputId": "dc06ef79-e20e-4107-d515-e9a6f6284ccb"
      },
      "execution_count": 14,
      "outputs": [
        {
          "output_type": "stream",
          "name": "stdout",
          "text": [
            "RMSE: 2.1447610589527217\n"
          ]
        }
      ]
    }
  ]
}